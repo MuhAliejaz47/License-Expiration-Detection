{
 "cells": [
  {
   "cell_type": "code",
   "execution_count": 1,
   "metadata": {},
   "outputs": [
    {
     "name": "stdout",
     "output_type": "stream",
     "text": [
      "Files created: Expired_License_Plates.csv and Valid_License_Plates.csv\n"
     ]
    }
   ],
   "source": [
    "import pandas as pd\n",
    "import random\n",
    "from datetime import datetime, timedelta\n",
    "\n",
    "# Function to generate random dates\n",
    "def random_date(start, end):\n",
    "    return start + timedelta(days=random.randint(0, int((end - start).days)))\n",
    "\n",
    "# Define ranges for issue and expiry dates\n",
    "issue_start_date = datetime(1990, 1, 1)\n",
    "issue_end_date = datetime(2020, 1, 1)\n",
    "expiry_end_date_expired = datetime(2019, 1, 1)\n",
    "expiry_end_date_valid = datetime(2025, 1, 1)\n",
    "\n",
    "# Generate random entries for expired license plates\n",
    "def generate_expired_data(num_entries=100):\n",
    "    data = []\n",
    "    for _ in range(num_entries):\n",
    "        first_name = random.choice(['Yunus', 'Sara', 'Khalid'])\n",
    "        last_name = random.choice(['Mohamed', 'Ahmed', 'Alhammadi'])\n",
    "        issue_date = random_date(issue_start_date, issue_end_date)\n",
    "        expiry_date = random_date(issue_start_date, expiry_end_date_expired)\n",
    "        entry = {\n",
    "            \"ID\": f\"{random.randint(100, 999)}-{random.randint(1000, 9999)}-{random.randint(1000000, 9999999)}-2\",\n",
    "            \"Name\": f\"{first_name} {last_name}\",\n",
    "            \"Car Plate Number\": random.randint(10000, 99999),\n",
    "            \"License Number\": random.randint(50000, 99999),\n",
    "            \"Issue Date\": issue_date.strftime('%d-%m-%Y'),\n",
    "            \"Expiry Date\": expiry_date.strftime('%d-%m-%Y'),\n",
    "            \"Phone Number\": random.randint(500000000, 599999999),\n",
    "            \"Traffic Code Number\": random.randint(1000000000, 1999999999),\n",
    "            \"Place of Issue\": random.choice([\"Abu Dhabi\", \"Dubai\", \"Sharjah\"]),\n",
    "            \"Email Address\": f\"{first_name.lower()}.{last_name.lower()}@example.com\"\n",
    "        }\n",
    "        data.append(entry)\n",
    "    return data\n",
    "\n",
    "# Generate random entries for valid license plates\n",
    "def generate_valid_data(num_entries=100):\n",
    "    data = []\n",
    "    for _ in range(num_entries):\n",
    "        first_name = random.choice(['Ahmed', 'Laila', 'Rashid'])\n",
    "        last_name = random.choice(['Ali', 'Yousuf', 'Omar'])\n",
    "        issue_date = random_date(issue_start_date, issue_end_date)\n",
    "        expiry_date = random_date(datetime(2022, 1, 1), expiry_end_date_valid)\n",
    "        entry = {\n",
    "            \"ID\": f\"{random.randint(100, 999)}-{random.randint(1000, 9999)}-{random.randint(1000000, 9999999)}-2\",\n",
    "            \"Name\": f\"{first_name} {last_name}\",\n",
    "            \"Car Plate Number\": random.randint(10000, 99999),\n",
    "            \"License Number\": random.randint(50000, 99999),\n",
    "            \"Issue Date\": issue_date.strftime('%d-%m-%Y'),\n",
    "            \"Expiry Date\": expiry_date.strftime('%d-%m-%Y'),\n",
    "            \"Phone Number\": random.randint(500000000, 599999999),\n",
    "            \"Traffic Code Number\": random.randint(1000000000, 1999999999),\n",
    "            \"Place of Issue\": random.choice([\"Abu Dhabi\", \"Dubai\", \"Sharjah\"]),\n",
    "            \"Email Address\": f\"{first_name.lower()}.{last_name.lower()}@example.com\"\n",
    "        }\n",
    "        data.append(entry)\n",
    "    return data\n",
    "\n",
    "# Generate expired and valid data\n",
    "expired_data = generate_expired_data()\n",
    "valid_data = generate_valid_data()\n",
    "\n",
    "# Convert to DataFrames and save to CSV files\n",
    "expired_df = pd.DataFrame(expired_data)\n",
    "valid_df = pd.DataFrame(valid_data)\n",
    "\n",
    "expired_df.to_csv('Expired_License_Plates.csv', index=False)\n",
    "valid_df.to_csv('Valid_License_Plates.csv', index=False)\n",
    "\n",
    "print(\"Files created: Expired_License_Plates.csv and Valid_License_Plates.csv\")\n"
   ]
  },
  {
   "cell_type": "code",
   "execution_count": null,
   "metadata": {},
   "outputs": [],
   "source": []
  }
 ],
 "metadata": {
  "kernelspec": {
   "display_name": "Python 3",
   "language": "python",
   "name": "python3"
  },
  "language_info": {
   "codemirror_mode": {
    "name": "ipython",
    "version": 3
   },
   "file_extension": ".py",
   "mimetype": "text/x-python",
   "name": "python",
   "nbconvert_exporter": "python",
   "pygments_lexer": "ipython3",
   "version": "3.11.9"
  }
 },
 "nbformat": 4,
 "nbformat_minor": 2
}
